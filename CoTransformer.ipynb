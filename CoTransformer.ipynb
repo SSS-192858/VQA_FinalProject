{
 "cells": [
  {
   "cell_type": "code",
   "execution_count": null,
   "metadata": {},
   "outputs": [],
   "source": [
    "import torch\n",
    "import torch.nn as nn\n",
    "import torch.optim as optim\n",
    "from torch.utils.data import DataLoader,Dataset\n",
    "from transformers import ViTModel, BertModel, BertTokenizer\n",
    "from sklearn.model_selection import train_test_split"
   ]
  },
  {
   "cell_type": "code",
   "execution_count": null,
   "metadata": {},
   "outputs": [],
   "source": [
    "class CoTransformer(nn.Module):\n",
    "    def __init__(self, dim):\n",
    "        super(CoTransformer, self).__init__()\n",
    "        self.attention = nn.MultiheadAttention(dim, num_heads=8)\n",
    "        self.linear = nn.Linear(dim, dim)\n",
    "        self.layer_norm = nn.LayerNorm(dim)\n",
    "\n",
    "    def forward(self, query, key, value):\n",
    "        attn_output, _ = self.attention(query, key, value)\n",
    "        co_transformed_repr = self.layer_norm(self.linear(attn_output) + query)\n",
    "        return co_transformed_repr"
   ]
  },
  {
   "cell_type": "code",
   "execution_count": null,
   "metadata": {},
   "outputs": [],
   "source": [
    "vit_model = ViTModel.from_pretrained('google/vit-base-patch16-224-in21k')\n",
    "bert_model = BertModel.from_pretrained('bert-base-uncased')"
   ]
  },
  {
   "cell_type": "code",
   "execution_count": null,
   "metadata": {},
   "outputs": [],
   "source": [
    "class MyModel(nn.Module):\n",
    "    def __init__(self, num_classes, dim):\n",
    "        super(MyModel, self).__init__()\n",
    "        self.co_transformer_vit_to_bert = CoTransformer(dim=dim)\n",
    "        self.co_transformer_bert_to_vit = CoTransformer(dim=dim)\n",
    "\n",
    "        self.layer1 = nn.Sequential(\n",
    "            nn.Linear(in_features=dim*2, out_features=512),\n",
    "            nn.ReLU(),\n",
    "            nn.BatchNorm1d(512),\n",
    "            nn.Dropout(0.3),\n",
    "        )\n",
    "\n",
    "        self.layer2 = nn.Sequential(\n",
    "            nn.Linear(in_features=512, out_features=256),\n",
    "            nn.ReLU(),\n",
    "            nn.BatchNorm1d(512),\n",
    "            nn.Dropout(0.3),\n",
    "        )\n",
    "        \n",
    "        self.output_layer = nn.Linear(in_features=256, out_features=num_classes)\n",
    "\n",
    "\n",
    "    def forward(self, img_query, img_key, img_value, ques_query, ques_key, ques_value):\n",
    "        joint_repr_vit_to_bert = self.co_transformer_vit_to_bert(ques_query, img_key, img_value)\n",
    "        joint_repr_bert_to_vit = self.co_transformer_bert_to_vit(img_query, ques_key, ques_value)\n",
    "        combined_repr = torch.cat((joint_repr_vit_to_bert, joint_repr_bert_to_vit), dim=-1)\n",
    "        x = self.layer1(combined_repr)\n",
    "        x = self.layer2(x)\n",
    "        output = self.output_layer(x)\n",
    "        return output"
   ]
  },
  {
   "cell_type": "code",
   "execution_count": null,
   "metadata": {},
   "outputs": [],
   "source": [
    "class MyDataset(Dataset):\n",
    "    def __init__(self, data):\n",
    "        self.data = data\n",
    "\n",
    "    def __len__(self):\n",
    "        return len(self.data)\n",
    "\n",
    "    def __getitem__(self, index):\n",
    "        image, question, answer = self.data[index]\n",
    "        return image, question, answer"
   ]
  },
  {
   "cell_type": "code",
   "execution_count": null,
   "metadata": {},
   "outputs": [],
   "source": [
    "dummy_data = [\n",
    "    (torch.randn(3, 224, 224), \"What is this?\", 0),\n",
    "    (torch.randn(3, 224, 224), \"What color is this?\", 1),\n",
    "    # Add more data as needed\n",
    "]"
   ]
  },
  {
   "cell_type": "code",
   "execution_count": null,
   "metadata": {},
   "outputs": [],
   "source": [
    "# Split dataset into training and validation sets\n",
    "train_data, val_data = train_test_split(dummy_data, test_size=0.2)\n",
    "\n",
    "# Define data loaders\n",
    "train_loader = DataLoader(MyDataset(train_data), batch_size=32, shuffle=True)\n",
    "val_loader = DataLoader(MyDataset(val_data), batch_size=32, shuffle=False)\n",
    "tokenizer = BertTokenizer.from_pretrained('bert-base-uncased')"
   ]
  },
  {
   "cell_type": "code",
   "execution_count": null,
   "metadata": {},
   "outputs": [],
   "source": [
    "num_classes = 2"
   ]
  },
  {
   "cell_type": "code",
   "execution_count": null,
   "metadata": {},
   "outputs": [],
   "source": [
    "model = MyModel(num_classes=num_classes, dim=768)  # Assuming dim=768 for ViT and BERT\n",
    "\n",
    "# Define loss function and optimizer\n",
    "criterion = nn.CrossEntropyLoss()\n",
    "optimizer = optim.Adam(model.parameters(), lr=1e-4)"
   ]
  },
  {
   "cell_type": "code",
   "execution_count": null,
   "metadata": {},
   "outputs": [],
   "source": [
    "num_epochs = 10\n",
    "for epoch in range(num_epochs):\n",
    "    model.train()\n",
    "    for images, questions, answers in train_loader:\n",
    "        optimizer.zero_grad()\n",
    "\n",
    "        # Process images\n",
    "        img_output = vit_model(pixel_values=images)\n",
    "        img_query, img_key, img_value = img_output.last_hidden_state.split(1, dim=-1)\n",
    "\n",
    "        # Tokenize questions\n",
    "        question_tokens = tokenizer(questions, return_tensors='pt', padding=True, truncation=True)\n",
    "        ques_output = bert_model(**question_tokens)\n",
    "        ques_query, ques_key, ques_value = ques_output.last_hidden_state.split(1, dim=-1)\n",
    "\n",
    "        # Forward pass\n",
    "        output = model(img_query.squeeze(0), img_key.squeeze(0), img_value.squeeze(0),\n",
    "                       ques_query.squeeze(0), ques_key.squeeze(0), ques_value.squeeze(0))\n",
    "\n",
    "        # Compute loss\n",
    "        loss = criterion(output, answers)\n",
    "\n",
    "        # Backward pass\n",
    "        loss.backward()\n",
    "        optimizer.step()\n",
    "\n",
    "    # Validate the model\n",
    "    model.eval()\n",
    "    val_loss = 0.0\n",
    "    correct = 0\n",
    "    total = 0\n",
    "    with torch.no_grad():\n",
    "        for images, questions, answers in val_loader:\n",
    "            # Process images\n",
    "            img_output = vit_model(pixel_values=images)\n",
    "            img_query, img_key, img_value = img_output.last_hidden_state.split(1, dim=-1)\n",
    "\n",
    "            # Tokenize questions\n",
    "            question_tokens = tokenizer(questions, return_tensors='pt', padding=True, truncation=True)\n",
    "            ques_output = bert_model(**question_tokens)\n",
    "            ques_query, ques_key, ques_value = ques_output.last_hidden_state.split(1, dim=-1)\n",
    "\n",
    "            # Forward pass\n",
    "            output = model(img_query.squeeze(0), img_key.squeeze(0), img_value.squeeze(0),\n",
    "                           ques_query.squeeze(0), ques_key.squeeze(0), ques_value.squeeze(0))\n",
    "\n",
    "            # Compute loss\n",
    "            val_loss += criterion(output, answers).item()\n",
    "\n",
    "            # Compute accuracy\n",
    "            _, predicted = torch.max(output, 1)\n",
    "            total += answers.size(0)\n",
    "            correct += (predicted == answers).sum().item()\n",
    "\n",
    "    print(f\"Epoch {epoch+1}/{num_epochs}, Loss: {val_loss/len(val_loader)}, Accuracy: {(correct/total)*100}%\")"
   ]
  }
 ],
 "metadata": {
  "kernelspec": {
   "display_name": "base",
   "language": "python",
   "name": "python3"
  },
  "language_info": {
   "name": "python",
   "version": "3.10.13"
  }
 },
 "nbformat": 4,
 "nbformat_minor": 2
}
