{
 "cells": [
  {
   "cell_type": "code",
   "execution_count": 1,
   "metadata": {},
   "outputs": [],
   "source": [
    "def codeToReadTxtFile(filename):\n",
    "\n",
    "    epoch_num = 0\n",
    "    accuracy = 0\n",
    "    precision = 0\n",
    "    recall = 0\n",
    "    f1 = 0\n",
    "    outer_dictionary = {}\n",
    "    dictionary = {}\n",
    "    with open(filename, 'r') as file:\n",
    "        lines = file.readlines()\n",
    "        for i in range(len(lines)):\n",
    "\n",
    "            line = lines[i].split()\n",
    "            if (i%2 == 0):\n",
    "                dictionary = {}\n",
    "\n",
    "                epoch_num = int(line[1].split('/')[0])\n",
    "                accuracy = round(float(line[7].split('%')[0]), 4)\n",
    "                dictionary['train_accuracy'] = accuracy\n",
    "                precision = round(float(line[10].split(',')[0]), 4)\n",
    "                dictionary['train_precision'] = precision\n",
    "                recall = round(float(line[13].split(',')[0]), 4)\n",
    "                dictionary['train_recall'] = recall\n",
    "                f1 = round(float(line[16]), 4)\n",
    "                dictionary['train_f1'] = f1\n",
    "                # print(epoch_num, accuracy, precision, recall, f1)\n",
    "\n",
    "            else:\n",
    "                \n",
    "                accuracy = round(float(line[5].split('%')[0]), 4)\n",
    "                dictionary['val_accuracy'] = accuracy\n",
    "                precision = round(float(line[8].split(',')[0]), 4)\n",
    "                dictionary['val_precision'] = precision\n",
    "                recall = round(float(line[11].split(',')[0]), 4)\n",
    "                dictionary['val_recall'] = recall\n",
    "                f1 = round(float(line[14]), 4)\n",
    "                dictionary['val_f1'] = f1\n",
    "\n",
    "                outer_dictionary[epoch_num] = dictionary\n",
    "    \n",
    "    return outer_dictionary"
   ]
  },
  {
   "cell_type": "code",
   "execution_count": 2,
   "metadata": {},
   "outputs": [],
   "source": [
    "def codeForTable(outer_dictionary, filepath):\n",
    "\n",
    "    with open('table_start.txt', 'r') as file:\n",
    "        content = file.read()\n",
    "    \n",
    "    for epoch in outer_dictionary:\n",
    "\n",
    "        line = f'''{epoch} & {outer_dictionary[epoch]['train_accuracy']} & {outer_dictionary[epoch]['train_precision']} & {outer_dictionary[epoch]['train_recall']} & {outer_dictionary[epoch]['train_f1']} & {outer_dictionary[epoch]['val_accuracy']} & {outer_dictionary[epoch]['val_precision']} & {outer_dictionary[epoch]['val_recall']} & {outer_dictionary[epoch]['val_f1']} \\\\\\\\\n",
    "\\hline\n",
    "'''\n",
    "        \n",
    "        content +=line\n",
    "    \n",
    "    with open('table_end.txt', 'r') as file:\n",
    "        content_end = file.read()\n",
    "\n",
    "    content += content_end\n",
    "\n",
    "    with open(filepath, 'w') as file:\n",
    "        file.write(content)"
   ]
  },
  {
   "cell_type": "code",
   "execution_count": 3,
   "metadata": {},
   "outputs": [],
   "source": [
    "codeForTable(codeToReadTxtFile('WithCoTRM_VIT_BERT_LoRA.txt'), 'demo.txt')"
   ]
  }
 ],
 "metadata": {
  "kernelspec": {
   "display_name": "base",
   "language": "python",
   "name": "python3"
  },
  "language_info": {
   "codemirror_mode": {
    "name": "ipython",
    "version": 3
   },
   "file_extension": ".py",
   "mimetype": "text/x-python",
   "name": "python",
   "nbconvert_exporter": "python",
   "pygments_lexer": "ipython3",
   "version": "3.10.13"
  }
 },
 "nbformat": 4,
 "nbformat_minor": 2
}
