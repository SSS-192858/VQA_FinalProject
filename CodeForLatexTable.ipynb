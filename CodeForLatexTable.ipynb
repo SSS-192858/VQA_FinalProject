{
 "cells": [
  {
   "cell_type": "code",
<<<<<<< HEAD
   "execution_count": 1,
=======
<<<<<<< HEAD
<<<<<<< HEAD
   "execution_count": 1,
=======
   "execution_count": 16,
>>>>>>> 577725dc886ec710e8a65b9161453e2988d8c2d0
=======
   "execution_count": 16,
>>>>>>> 577725dc886ec710e8a65b9161453e2988d8c2d0
>>>>>>> 1efee6f7c1b66520eaf9440cb4bc7d57418e038d
   "metadata": {},
   "outputs": [],
   "source": [
    "def codeToReadTxtFile(filename):\n",
    "\n",
    "    epoch_num = 0\n",
    "    accuracy = 0\n",
    "    precision = 0\n",
    "    recall = 0\n",
    "    f1 = 0\n",
    "    outer_dictionary = {}\n",
    "    dictionary = {}\n",
    "    with open(filename, 'r') as file:\n",
    "        lines = file.readlines()\n",
    "        for i in range(len(lines)):\n",
    "\n",
    "            line = lines[i].split()\n",
    "            if (i%2 == 0):\n",
    "                dictionary = {}\n",
    "\n",
    "                epoch_num = int(line[1].split('/')[0])\n",
<<<<<<< HEAD
<<<<<<< HEAD
    "                accuracy = round(float(line[7].split('%')[0]), 6)\n",
    "                dictionary['train_accuracy'] = accuracy\n",
    "                precision = round(float(line[10].split(',')[0]), 6)\n",
    "                dictionary['train_precision'] = precision\n",
    "                recall = round(float(line[13].split(',')[0]), 6)\n",
    "                dictionary['train_recall'] = recall\n",
    "                f1 = round(float(line[16]), 6)\n",
=======
=======
>>>>>>> 577725dc886ec710e8a65b9161453e2988d8c2d0
    "                accuracy = round(float(line[7].split('%')[0]), 4)\n",
    "                dictionary['train_accuracy'] = accuracy\n",
    "                precision = round(float(line[10].split(',')[0]), 4)\n",
    "                dictionary['train_precision'] = precision\n",
    "                recall = round(float(line[13].split(',')[0]), 4)\n",
    "                dictionary['train_recall'] = recall\n",
    "                f1 = round(float(line[16]), 4)\n",
<<<<<<< HEAD
>>>>>>> 577725dc886ec710e8a65b9161453e2988d8c2d0
=======
>>>>>>> 577725dc886ec710e8a65b9161453e2988d8c2d0
    "                dictionary['train_f1'] = f1\n",
    "                # print(epoch_num, accuracy, precision, recall, f1)\n",
    "\n",
    "            else:\n",
    "                \n",
<<<<<<< HEAD
<<<<<<< HEAD
    "                accuracy = round(float(line[5].split('%')[0]), 6)\n",
    "                dictionary['val_accuracy'] = accuracy\n",
    "                precision = round(float(line[8].split(',')[0]), 6)\n",
    "                dictionary['val_precision'] = precision\n",
    "                recall = round(float(line[11].split(',')[0]), 6)\n",
    "                dictionary['val_recall'] = recall\n",
    "                f1 = round(float(line[14]), 6)\n",
=======
=======
>>>>>>> 577725dc886ec710e8a65b9161453e2988d8c2d0
    "                accuracy = round(float(line[5].split('%')[0]), 4)\n",
    "                dictionary['val_accuracy'] = accuracy\n",
    "                precision = round(float(line[8].split(',')[0]), 4)\n",
    "                dictionary['val_precision'] = precision\n",
    "                recall = round(float(line[11].split(',')[0]), 4)\n",
    "                dictionary['val_recall'] = recall\n",
    "                f1 = round(float(line[14]), 4)\n",
<<<<<<< HEAD
>>>>>>> 577725dc886ec710e8a65b9161453e2988d8c2d0
=======
>>>>>>> 577725dc886ec710e8a65b9161453e2988d8c2d0
    "                dictionary['val_f1'] = f1\n",
    "\n",
    "                outer_dictionary[epoch_num] = dictionary\n",
    "    \n",
    "    return outer_dictionary"
   ]
  },
  {
   "cell_type": "code",
<<<<<<< HEAD
   "execution_count": 2,
=======
<<<<<<< HEAD
<<<<<<< HEAD
   "execution_count": 2,
   "metadata": {},
   "outputs": [
    {
     "name": "stderr",
     "output_type": "stream",
     "text": [
      "<>:10: SyntaxWarning: invalid escape sequence '\\h'\n",
      "<>:10: SyntaxWarning: invalid escape sequence '\\h'\n",
      "C:\\Users\\Admin\\AppData\\Local\\Temp\\ipykernel_11812\\711635906.py:10: SyntaxWarning: invalid escape sequence '\\h'\n",
      "  '''\n"
     ]
    }
   ],
=======
   "execution_count": 17,
>>>>>>> 1efee6f7c1b66520eaf9440cb4bc7d57418e038d
   "metadata": {},
   "outputs": [],
>>>>>>> 577725dc886ec710e8a65b9161453e2988d8c2d0
=======
   "execution_count": 17,
   "metadata": {},
   "outputs": [],
>>>>>>> 577725dc886ec710e8a65b9161453e2988d8c2d0
   "source": [
    "def codeForTable(outer_dictionary, filepath):\n",
    "\n",
    "    with open('table_start.txt', 'r') as file:\n",
    "        content = file.read()\n",
    "    \n",
    "    for epoch in outer_dictionary:\n",
    "\n",
    "        line = f'''{epoch} & {outer_dictionary[epoch]['train_accuracy']} & {outer_dictionary[epoch]['train_precision']} & {outer_dictionary[epoch]['train_recall']} & {outer_dictionary[epoch]['train_f1']} & {outer_dictionary[epoch]['val_accuracy']} & {outer_dictionary[epoch]['val_precision']} & {outer_dictionary[epoch]['val_recall']} & {outer_dictionary[epoch]['val_f1']} \\\\\\\\\n",
    "\\hline\n",
    "'''\n",
    "        \n",
    "        content +=line\n",
    "    \n",
    "    with open('table_end.txt', 'r') as file:\n",
    "        content_end = file.read()\n",
    "\n",
    "    content += content_end\n",
    "\n",
    "    with open(filepath, 'w') as file:\n",
    "        file.write(content)"
   ]
  },
  {
   "cell_type": "code",
<<<<<<< HEAD
   "execution_count": 3,
=======
<<<<<<< HEAD
<<<<<<< HEAD
   "execution_count": 3,
   "metadata": {},
   "outputs": [],
   "source": [
    "codeForTable(codeToReadTxtFile('WithoutCOTRM_Lora.txt'), 'Table_WithCOTRM_VIT_BERT.txt')"
   ]
  },
  {
   "cell_type": "code",
   "execution_count": null,
   "metadata": {},
   "outputs": [],
   "source": []
=======
=======
>>>>>>> 577725dc886ec710e8a65b9161453e2988d8c2d0
   "execution_count": 18,
>>>>>>> 1efee6f7c1b66520eaf9440cb4bc7d57418e038d
   "metadata": {},
   "outputs": [],
   "source": [
    "codeForTable(codeToReadTxtFile('WithoutCoTRM_BERT_VIT.txt'), 'demo.txt')"
   ]
<<<<<<< HEAD
>>>>>>> 577725dc886ec710e8a65b9161453e2988d8c2d0
=======
>>>>>>> 577725dc886ec710e8a65b9161453e2988d8c2d0
  }
 ],
 "metadata": {
  "kernelspec": {
   "display_name": "base",
   "language": "python",
   "name": "python3"
  },
  "language_info": {
   "codemirror_mode": {
    "name": "ipython",
    "version": 3
   },
   "file_extension": ".py",
   "mimetype": "text/x-python",
   "name": "python",
   "nbconvert_exporter": "python",
   "pygments_lexer": "ipython3",
<<<<<<< HEAD
<<<<<<< HEAD
   "version": "3.12.2"
=======
   "version": "3.10.13"
>>>>>>> 577725dc886ec710e8a65b9161453e2988d8c2d0
=======
   "version": "3.10.13"
>>>>>>> 577725dc886ec710e8a65b9161453e2988d8c2d0
  }
 },
 "nbformat": 4,
 "nbformat_minor": 2
}
